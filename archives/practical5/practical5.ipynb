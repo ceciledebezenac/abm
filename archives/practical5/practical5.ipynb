{
 "cells": [
  {
   "cell_type": "markdown",
   "metadata": {},
   "source": [
    "# Model from agentframework : Agents!"
   ]
  },
  {
   "cell_type": "markdown",
   "metadata": {},
   "source": [
    "## Practical 5 : create and move n agents"
   ]
  },
  {
   "cell_type": "markdown",
   "metadata": {},
   "source": [
    "This is the first practical to consider class Agent and seperate agentframework from the actual script model. \n",
    "The different concepts covered by this practical are : \n",
    "- creating a class of agents in seperate script agentframework.py\n",
    "- adding random coordinates as attributes to these agents by the __init__ method.\n",
    "- defining a new method move() inside the class.\n",
    "- creating class instances outside the framework.\n",
    "- accessing class attributes and calling class methods in the model itself. \n",
    "- plotting the coordinates of these agents in the model."
   ]
  },
  {
   "cell_type": "code",
   "execution_count": 1,
   "metadata": {},
   "outputs": [],
   "source": [
    "import random as rd\n",
    "import agentframework5_secure as ag"
   ]
  },
  {
   "cell_type": "code",
   "execution_count": 2,
   "metadata": {},
   "outputs": [
    {
     "name": "stdout",
     "output_type": "stream",
     "text": [
      "63 61\n"
     ]
    }
   ],
   "source": [
    "#test the import and the agentframework:\n",
    "a=ag.Agent()\n",
    "print(a.x,a.y)"
   ]
  },
  {
   "cell_type": "code",
   "execution_count": 92,
   "metadata": {},
   "outputs": [],
   "source": [
    "#create global variables for the model\n",
    "number_agents=10\n",
    "number_iterations=10\n"
   ]
  },
  {
   "cell_type": "code",
   "execution_count": 93,
   "metadata": {},
   "outputs": [],
   "source": [
    "#create number_agents of agents from agentframework5 class Agent.\n",
    "agents=[]\n",
    "for i in range (number_agents):\n",
    "    agents.append(ag.Agent())\n",
    "    #no argument in Agent yet\n",
    "\n"
   ]
  },
  {
   "cell_type": "code",
   "execution_count": 94,
   "metadata": {},
   "outputs": [],
   "source": [
    "#move them number_iterations times :\n",
    "for j in range (number_iterations):\n",
    "    for i in range(numer_agents):\n",
    "    agents[i].move()"
   ]
  },
  {
   "cell_type": "code",
   "execution_count": 95,
   "metadata": {},
   "outputs": [
    {
     "data": {
      "image/png": "[encoded data removed]",
      "text/plain": [
       "<Figure size 432x288 with 1 Axes>"
      ]
     },
     "metadata": {
      "needs_background": "light"
     },
     "output_type": "display_data"
    }
   ],
   "source": [
    "#plot all the agents on the grid\n",
    "plt.xlim(0,100)\n",
    "plt.ylim(0,100)\n",
    "plt.scatter([agents[i].x for i in range (number_agents)],[agents[i].y for i in range (number_agents)])\n",
    "plt.title(str(number_agents)+' agents')\n",
    "plt.show()\n",
    "#or use a loop to go through all the agents"
   ]
  },
  {
   "cell_type": "code",
   "execution_count": 96,
   "metadata": {},
   "outputs": [],
   "source": [
    "#adaptation of the distance using object attributes: we do not include the distance in the agentframework as we want it as part of the model\n",
    "def distance(agent1,agent2):\n",
    "    '''Return euclidean distance between agents of 2D coordinates x and y.\n",
    "    >>> distance([0,0],[0,1])\n",
    "    1\n",
    "    '''\n",
    "    return(((agent1.x-agent2.x)**2+(agent1.y-agent2.y)**2)**0.5)\n",
    "    "
   ]
  },
  {
   "cell_type": "code",
   "execution_count": 89,
   "metadata": {},
   "outputs": [],
   "source": [
    "#distance from all agents to all agents.\n",
    "distance_all=[]\n",
    "for origin in range(number_agents):\n",
    "    distance_origin=[]\n",
    "    for i in range(origin,number_agents):\n",
    "        if i!=origin :#just so we don't calculate distance from oneself> but we could discard this step here\n",
    "            dist=distance(agents[origin],agents[i])\n",
    "            distance_origin.append(dist)\n",
    "    distance_all.append(distance_origin)"
   ]
  },
  {
   "cell_type": "code",
   "execution_count": null,
   "metadata": {},
   "outputs": [],
   "source": []
  }
 ],
 "metadata": {
  "kernelspec": {
   "display_name": "Python 3",
   "language": "python",
   "name": "python3"
  },
  "language_info": {
   "codemirror_mode": {
    "name": "ipython",
    "version": 3
   },
   "file_extension": ".py",
   "mimetype": "text/x-python",
   "name": "python",
   "nbconvert_exporter": "python",
   "pygments_lexer": "ipython3",
   "version": "3.7.3"
  }
 },
 "nbformat": 4,
 "nbformat_minor": 2
}
