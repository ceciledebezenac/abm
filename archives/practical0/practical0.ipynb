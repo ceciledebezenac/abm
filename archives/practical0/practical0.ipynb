{
 "cells": [
  {
   "cell_type": "markdown",
   "metadata": {},
   "source": [
    "# Programming for Social Science : GEOG5995M"
   ]
  },
  {
   "cell_type": "markdown",
   "metadata": {},
   "source": [
    "This script corresponds to the practicals 1 to 4 included (Agent based modelling to Building tools) from GEOG1.\n",
    "All the steps have been followed but are not necessarily coded in the order of the practicals as new functionalities are built on the same script. \n",
    "\n",
    "This script includes : \n",
    "- creation of an agent represented by a list of coordinates y and x.\n",
    "- modification of agent coordinates through random process : a 'move'\n",
    "- loop process : make the agent move multiple times\n",
    "- loop process : make multiple agents move multiple times\n",
    "- define a distance function between two agents\n",
    "- compute the distance between all agents in an efficient way using Python timing methods.\n",
    "- include testing options with docstring method (for distance method). "
   ]
  },
  {
   "cell_type": "code",
   "execution_count": 79,
   "metadata": {},
   "outputs": [],
   "source": [
    "import random as rd\n",
    "import matplotlib.pyplot as plt\n",
    "import timeit as tt\n",
    "import time\n",
    "import operator"
   ]
  },
  {
   "cell_type": "code",
   "execution_count": 12,
   "metadata": {},
   "outputs": [],
   "source": [
    "#create 2 variables, x and y:\n",
    "y0=50\n",
    "x0=50"
   ]
  },
  {
   "cell_type": "code",
   "execution_count": 13,
   "metadata": {},
   "outputs": [],
   "source": [
    "# move an agent with coordinates x0, y0 randomly:\n",
    "if rd.random()<0.5:\n",
    "    #with a probability of 0.5, move up y:\n",
    "    y+=1\n",
    "else:\n",
    "    #with a probability of 0.5, move down y:\n",
    "    y-=1\n",
    "if rd.random()<0.5:\n",
    "    #move up or down, independantly from y, x:\n",
    "    x+=1\n",
    "else:\n",
    "    x-=1"
   ]
  },
  {
   "cell_type": "code",
   "execution_count": 15,
   "metadata": {},
   "outputs": [
    {
     "name": "stdout",
     "output_type": "stream",
     "text": [
      "[[49, 49], [50, 48], [49, 47], [48, 46], [47, 45], [46, 44], [47, 43], [46, 42], [47, 43], [46, 42]]\n"
     ]
    }
   ],
   "source": [
    "#move n times one agent of coordinates x and y:\n",
    "n=10\n",
    "x=50\n",
    "y=50\n",
    "traj=[]\n",
    "for i in range (n):\n",
    "    #loop through [0,n] and move each time\n",
    "    if rd.random()<0.5:\n",
    "        y+=1\n",
    "    else:\n",
    "        y-=1\n",
    "    if rd.random()<0.5:\n",
    "        x+=1\n",
    "    else:\n",
    "        x-=1\n",
    "    #store the last value of x and y into a list\n",
    "    traj.append([y,x])\n",
    "\n",
    "#show the result to check the code\n",
    "print(traj)"
   ]
  },
  {
   "cell_type": "code",
   "execution_count": 24,
   "metadata": {},
   "outputs": [
    {
     "data": {
      "image/png": "[encoded data removed]",
      "text/plain": [
       "<Figure size 432x288 with 1 Axes>"
      ]
     },
     "metadata": {
      "needs_background": "light"
     },
     "output_type": "display_data"
    }
   ],
   "source": [
    "#plot the trajectory of this agent for the different iterations inside a zoomed box (30,70)\n",
    "plt.xlim(30,70)\n",
    "plt.ylim(30,70)\n",
    "plt.scatter([newcoord[i][1]for i in range (n)],[newcoord[i][0]for i in range (n)])\n",
    "plt.title('Trajectory of agent for '+str(n)+' iterations')\n",
    "plt.show()"
   ]
  },
  {
   "cell_type": "code",
   "execution_count": 39,
   "metadata": {},
   "outputs": [
    {
     "name": "stdout",
     "output_type": "stream",
     "text": [
      "[[90, 65], [56, 43], [24, 79], [45, 3], [71, 80], [38, 100], [31, 76], [30, 97], [91, 3], [73, 19]]\n"
     ]
    }
   ],
   "source": [
    "#create number_agents random agents with the 'for' loop:\n",
    "number_agents=10\n",
    "#initialise an empty list\n",
    "agents=[]\n",
    "#loop through [0,number_agents]:\n",
    "for i in range (number_agents):\n",
    "    #give random integer numbers to y and x between 0 and 100\n",
    "    y=rd.randint(0,100)\n",
    "    x=rd.randint(0,100)\n",
    "    #store latest values of y and x\n",
    "    agents.append([y,x])\n",
    "#show the result to check the code\n",
    "print(agents)\n",
    "    "
   ]
  },
  {
   "cell_type": "code",
   "execution_count": 60,
   "metadata": {},
   "outputs": [
    {
     "data": {
      "text/plain": [
       "0.0039218084140002244"
      ]
     },
     "execution_count": 60,
     "metadata": {},
     "output_type": "execute_result"
    }
   ],
   "source": [
    "#create number of agents with an intern loop inside the list : shorter but faster? \n",
    "#time different\n",
    "code_to_test1='''import random as rd;number_agents=1000\n",
    "agents=[]\n",
    "for i in range (number_agents):\n",
    "    y=rd.randint(0,100)\n",
    "    x=rd.randint(0,100)\n",
    "    #store latest values of y and x\n",
    "    agents.append([y,x])'''\n",
    "code_to_test2='''import random as rd;number_agents=1000;agents=[[rd.randint(0,100),rd.randint(0,100)] for i in range(number_agents)]'''\n",
    "\n",
    "time1=tt.timeit(code_to_test1,number=1000)/1000\n",
    "print(time1)\n",
    "time2=tt.timeit(code_to_test2,number=1000)/1000\n",
    "print(time2)\n",
    "#"
   ]
  },
  {
   "cell_type": "code",
   "execution_count": 29,
   "metadata": {},
   "outputs": [
    {
     "data": {
      "image/png": "[encoded data removed]",
      "text/plain": [
       "<Figure size 432x288 with 1 Axes>"
      ]
     },
     "metadata": {
      "needs_background": "light"
     },
     "output_type": "display_data"
    }
   ],
   "source": [
    "#plot position of all the agents for the different iterations inside a box (0,100)\n",
    "plt.xlim(0,100)\n",
    "plt.ylim(0,100)\n",
    "plt.scatter([agents[i][1]for i in range (number_agents)],[agents[i][0]for i in range (number_agents)])\n",
    "plt.title(str(number_agents)+' agents')\n",
    "plt.show()"
   ]
  },
  {
   "cell_type": "code",
   "execution_count": 81,
   "metadata": {},
   "outputs": [
    {
     "name": "stdout",
     "output_type": "stream",
     "text": [
      "[38, 100]\n",
      "[91, 3]\n"
     ]
    }
   ],
   "source": [
    "#print the agent that is farthest away using the getitem to force Python to sort by x and not y : \n",
    "print(max(agents, key=operator.itemgetter(1))) #max x\n",
    "print(max(agents))#max y"
   ]
  },
  {
   "cell_type": "code",
   "execution_count": null,
   "metadata": {},
   "outputs": [],
   "source": [
    "#make all number_agents of agents move a number_iteration times :\n",
    "number_iterations=10\n",
    "\n",
    "for j in range(number_iterations)\n",
    "    for i in range(number_agents):\n",
    "        if rd.random()<0.5:\n",
    "            agents[i][0]+=1\n",
    "        else:\n",
    "            agents[i][0]-=1\n",
    "\n",
    "        if rd.random()<0.5:\n",
    "            agents[i][1]+=1\n",
    "        else:\n",
    "            agents[i][1]-=1\n",
    "#we note that all moves are independant because the random seed is not fixed. We could store these values as trajectories in lists. "
   ]
  },
  {
   "cell_type": "code",
   "execution_count": null,
   "metadata": {},
   "outputs": [],
   "source": [
    "#boundary problems : we create a grid on a 0,99 grid and give it a \"tore\" shape so that points don't leave the grid:\n",
    "#we use % that gives the remainder of euclidean division by 100 so makes it go to the other side. \n",
    "for j in range(number_iterations):    \n",
    "    for i in range(number_agents):\n",
    "        if rd.random()<0.5:\n",
    "            agents[i][0] = (agents[i][0] + 1) % 100\n",
    "        else:\n",
    "            agents[i][0] = (agents[i][0] - 1) % 100\n",
    "\n",
    "        if rd.random()<0.5:\n",
    "            agents[i][1] = (agents[i][1] + 1) % 100\n",
    "        else:\n",
    "            agents[i][1] = (agents[i][1] + 1) % 100\n",
    "\n"
   ]
  },
  {
   "cell_type": "code",
   "execution_count": 30,
   "metadata": {},
   "outputs": [],
   "source": [
    "#define the distance between two agents by using a function:\n",
    "def distance(agent1,agent2):\n",
    "    #add doc tests by including command lines into the documentation\n",
    "    \"\"\"\n",
    "    Computes the Euclidean distance between two points.\n",
    "\n",
    "    >>> distance([0,0],[0,1])\n",
    "    1\n",
    "    \"\"\"\n",
    "    dist=((agent1[0]-agent2[0])**2+(agent1[1]-agent2[1])**2)**0.5\n",
    "    return(dist)"
   ]
  },
  {
   "cell_type": "code",
   "execution_count": 35,
   "metadata": {},
   "outputs": [],
   "source": [
    "#check the distance works fine for easy values without doctest: \n",
    "agent_a=[0,0]\n",
    "agent_b=[0,1]\n",
    "print(distance(agent_a,agent_b)==1)\n",
    "\n"
   ]
  },
  {
   "cell_type": "code",
   "execution_count": 76,
   "metadata": {},
   "outputs": [
    {
     "name": "stdout",
     "output_type": "stream",
     "text": [
      "0.00033926963806152344\n"
     ]
    }
   ],
   "source": [
    "#calculated the distance between all couples of points:\n",
    "begin=time.time()\n",
    "distance_all=[]\n",
    "for origin in range(number_agents):\n",
    "    distance_origin=[]\n",
    "    for i in range(0,number_agents):\n",
    "        if i!=origin :\n",
    "            dist=distance(agents[origin],agents[i])\n",
    "            distance_origin.append(dist)\n",
    "    distance_all.append(distance_origin)\n",
    "end=time.time()\n",
    "duration=end-begin;print(duration)\n"
   ]
  },
  {
   "cell_type": "code",
   "execution_count": 77,
   "metadata": {},
   "outputs": [
    {
     "name": "stdout",
     "output_type": "stream",
     "text": [
      "0.0002570152282714844\n"
     ]
    }
   ],
   "source": [
    "#get rid of doubles : calculate the distance between points only once\n",
    "begin=time.time()\n",
    "distance_nodouble=[]\n",
    "for origin in range(number_agents):\n",
    "    distance_origin=[]\n",
    "    for i in range(origin,number_agents):\n",
    "        if i!=origin :\n",
    "            dist=distance(agents[origin],agents[i])\n",
    "            distance_origin.append(dist)\n",
    "    distance_nodouble.append(distance_origin)\n",
    "end=time.time()\n",
    "duration=end-begin;print(duration)"
   ]
  },
  {
   "cell_type": "code",
   "execution_count": 78,
   "metadata": {},
   "outputs": [
    {
     "name": "stdout",
     "output_type": "stream",
     "text": [
      "0.017458753360000627 0.008958218412000861\n"
     ]
    }
   ],
   "source": [
    "#Time the process with timeit : problem > recompute variables inside code\n",
    "code_dist1='''import random as rd;number_agents=100\n",
    "def distance(agent1,agent2):\n",
    "    dist=((agent1[0]-agent2[0])**2+(agent1[1]-agent2[1])**2)**0.5\n",
    "    return(dist)\n",
    "agents=[]\n",
    "for i in range (number_agents):\n",
    "    y=rd.randint(0,100)\n",
    "    x=rd.randint(0,100)\n",
    "    #store latest values of y and x\n",
    "    agents.append([y,x])\n",
    "distance_all=[]\n",
    "for origin in range(number_agents):\n",
    "    distance_origin=[]\n",
    "    for i in range(0,number_agents):\n",
    "        if i!=origin :\n",
    "            dist=distance(agents[origin],agents[i])\n",
    "            distance_origin.append(dist)\n",
    "    distance_all.append(distance_origin)'''\n",
    "\n",
    "code_dist2='''import random as rd;number_agents=100\n",
    "def distance(agent1,agent2):\n",
    "    dist=((agent1[0]-agent2[0])**2+(agent1[1]-agent2[1])**2)**0.5\n",
    "    return(dist)\n",
    "agents=[]\n",
    "for i in range (number_agents):\n",
    "    y=rd.randint(0,100)\n",
    "    x=rd.randint(0,100)\n",
    "    #store latest values of y and x\n",
    "    agents.append([y,x])\n",
    "distance_all=[]\n",
    "for origin in range(number_agents):\n",
    "    distance_origin=[]\n",
    "    for i in range(origin,number_agents):\n",
    "        if i!=origin :\n",
    "            dist=distance(agents[origin],agents[i])\n",
    "            distance_origin.append(dist)\n",
    "    distance_all.append(distance_origin)'''\n",
    "\n",
    "time1=tt.timeit(code_dist1,number=1000)/1000\n",
    "\n",
    "time2=tt.timeit(code_dist2,number=1000)/1000\n",
    "print(time1,time2)\n",
    "#the second option is a lot quicker of course"
   ]
  },
  {
   "cell_type": "code",
   "execution_count": null,
   "metadata": {},
   "outputs": [],
   "source": []
  }
 ],
 "metadata": {
  "kernelspec": {
   "display_name": "Python 3",
   "language": "python",
   "name": "python3"
  },
  "language_info": {
   "codemirror_mode": {
    "name": "ipython",
    "version": 3
   },
   "file_extension": ".py",
   "mimetype": "text/x-python",
   "name": "python",
   "nbconvert_exporter": "python",
   "pygments_lexer": "ipython3",
   "version": "3.7.3"
  }
 },
 "nbformat": 4,
 "nbformat_minor": 2
}
