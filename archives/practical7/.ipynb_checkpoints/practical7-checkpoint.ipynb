{
 "cells": [
  {
   "cell_type": "markdown",
   "metadata": {},
   "source": [
    "# Model from agentframework : Communicating!"
   ]
  },
  {
   "cell_type": "markdown",
   "metadata": {},
   "source": [
    "## Practical 7 : interaction between agents"
   ]
  },
  {
   "cell_type": "markdown",
   "metadata": {},
   "source": [
    "This practical considers ways agents have to communicate, in the same way as with the environment. \n",
    "The key concepts covered are : \n",
    "- creation of agent community that can share information on and modify others' attributes : method share_with_neighbors(neighborhood) and agents list as agent attribute.\n",
    "- defining key arguments to run the model in command line with sys (practical 6 should have also covered this). \n",
    "- jupyter notebook options to organise and comment code.\n"
   ]
  },
  {
   "cell_type": "code",
   "execution_count": 1,
   "metadata": {},
   "outputs": [],
   "source": [
    "import random as rd\n",
    "import agentframework7 as ag\n",
    "import csv\n",
    "import matplotlib.pyplot as plt\n",
    "import sys"
   ]
  },
  {
   "cell_type": "markdown",
   "metadata": {},
   "source": [
    "#### Global Enivronment "
   ]
  },
  {
   "cell_type": "code",
   "execution_count": 2,
   "metadata": {},
   "outputs": [],
   "source": [
    "#read the text file in csv and put it into a list to be able to plot it.        \n",
    "with open('in.txt') as csv_file:\n",
    "    csv_reader = csv.reader(csv_file, delimiter=',')\n",
    "    environment=[]\n",
    "    for row in csv_reader:\n",
    "        rowlist=[]\n",
    "        for value in row:\n",
    "            rowlist.append(int(value))\n",
    "        environment.append(rowlist)"
   ]
  },
  {
   "cell_type": "markdown",
   "metadata": {},
   "source": [
    "#### Global variables for model and simulation "
   ]
  },
  {
   "cell_type": "code",
   "execution_count": 3,
   "metadata": {},
   "outputs": [
    {
     "ename": "ValueError",
     "evalue": "could not convert string to float: '-f'",
     "output_type": "error",
     "traceback": [
      "\u001b[0;31m---------------------------------------------------------------------------\u001b[0m",
      "\u001b[0;31mValueError\u001b[0m                                Traceback (most recent call last)",
      "\u001b[0;32m<ipython-input-3-64b22487d45f>\u001b[0m in \u001b[0;36m<module>\u001b[0;34m\u001b[0m\n\u001b[1;32m     13\u001b[0m \u001b[0;32mif\u001b[0m \u001b[0marguments\u001b[0m\u001b[0;34m>\u001b[0m\u001b[0;36m0\u001b[0m\u001b[0;34m:\u001b[0m\u001b[0;34m\u001b[0m\u001b[0;34m\u001b[0m\u001b[0m\n\u001b[1;32m     14\u001b[0m     \u001b[0;31m# output arguments\u001b[0m\u001b[0;34m\u001b[0m\u001b[0;34m\u001b[0m\u001b[0;34m\u001b[0m\u001b[0m\n\u001b[0;32m---> 15\u001b[0;31m     \u001b[0;32mif\u001b[0m \u001b[0mfloat\u001b[0m\u001b[0;34m(\u001b[0m\u001b[0msys\u001b[0m\u001b[0;34m.\u001b[0m\u001b[0margv\u001b[0m\u001b[0;34m[\u001b[0m\u001b[0;36m1\u001b[0m\u001b[0;34m]\u001b[0m\u001b[0;34m)\u001b[0m\u001b[0;34m>\u001b[0m\u001b[0;36m0\u001b[0m\u001b[0;34m:\u001b[0m\u001b[0;34m\u001b[0m\u001b[0;34m\u001b[0m\u001b[0m\n\u001b[0m\u001b[1;32m     16\u001b[0m         \u001b[0mnumber_iterations\u001b[0m\u001b[0;34m=\u001b[0m\u001b[0mint\u001b[0m\u001b[0;34m(\u001b[0m\u001b[0msys\u001b[0m\u001b[0;34m.\u001b[0m\u001b[0margv\u001b[0m\u001b[0;34m[\u001b[0m\u001b[0;36m1\u001b[0m\u001b[0;34m]\u001b[0m\u001b[0;34m)\u001b[0m\u001b[0;34m\u001b[0m\u001b[0;34m\u001b[0m\u001b[0m\n\u001b[1;32m     17\u001b[0m     \u001b[0;32melse\u001b[0m \u001b[0;34m:\u001b[0m\u001b[0;34m\u001b[0m\u001b[0;34m\u001b[0m\u001b[0m\n",
      "\u001b[0;31mValueError\u001b[0m: could not convert string to float: '-f'"
     ]
    }
   ],
   "source": [
    "#create global variables for the model with default values\n",
    "\n",
    "#number of agents in the model\n",
    "number_agents=100\n",
    "#number of times to run the model(methods)\n",
    "number_iterations=10\n",
    "#ray for neighborhood\n",
    "neighborhood=10\n",
    "\n",
    "\n",
    "#use arguments specified in python command line : this will not execute properly in jupyter.\n",
    "arguments = len(sys.argv) - 1\n",
    "if arguments>0:\n",
    "    # output arguments\n",
    "    if float(sys.argv[1])>0:\n",
    "        number_iterations=int(sys.argv[1])\n",
    "    else :\n",
    "        print('The iteration argument is not a valid number of iterations, default will be used.')\n",
    "    \n",
    "    if float(sys.argv[2])>0:\n",
    "        number_agents=int(sys.argv[2])\n",
    "    else :\n",
    "        print('The agent argument is not a valid number of agents, default will be used.')\n",
    "    \n",
    "    if float(sys.argv[3])>0:\n",
    "        neighborhood=float(sys.argv[3])\n",
    "    else :\n",
    "        print('The agent argument is not a valid distance, default will be used.')\n",
    "    if arguments >3:\n",
    "        print('Too many arguments have been given, only the first 3 will be considered.')\n",
    "else :\n",
    "    print('default running.')\n"
   ]
  },
  {
   "cell_type": "markdown",
   "metadata": {},
   "source": [
    "#### Agent creation"
   ]
  },
  {
   "cell_type": "code",
   "execution_count": 4,
   "metadata": {},
   "outputs": [],
   "source": [
    "#create number_agents of agents from agentframework7 class Agent, adding environment to the arguments and the list of agents being created.\n",
    "#We note this list does not need to be full when added, so we can prograssively fill it up as agents are being created. \n",
    "agents=[]\n",
    "for i in range (number_agents):\n",
    "    agents.append(ag.Agent(environment,agents))\n",
    "    #no argument in Agent yet\n",
    "\n"
   ]
  },
  {
   "cell_type": "code",
   "execution_count": 5,
   "metadata": {},
   "outputs": [
    {
     "name": "stdout",
     "output_type": "stream",
     "text": [
      "y:179\n",
      "x:145\n",
      "store:0\n",
      "100 other agents share the same environment\n",
      "neighbors: 0\n"
     ]
    }
   ],
   "source": [
    "#check the agents have been added as arguments to agents\n",
    "print(agents[0]) "
   ]
  },
  {
   "cell_type": "markdown",
   "metadata": {},
   "source": [
    "#### Getting the model to work"
   ]
  },
  {
   "cell_type": "code",
   "execution_count": 6,
   "metadata": {},
   "outputs": [],
   "source": [
    "#save the amount stored by agents after num_iterations in a file    \n",
    "def add_store_info(list_agents,num_iter,num_agents,file_name='store_file'):\n",
    "    '''\n",
    "    Append the values of store for all agents after a number of iterations.\n",
    "    '''\n",
    "    #create the storage row\n",
    "    storage=[num_iter,num_agents]+[list_agents[i].store for i in range(num_agents)]\n",
    "    \n",
    "    #append it to existing doc\n",
    "    with open(file_name+'.csv', mode='a') as store_file:#the 'a' writing enables appending to existing file\n",
    "        storage_writer = csv.writer(store_file, delimiter=',')\n",
    "        storage_writer.writerow(storage)#store the data in one row    \n",
    "\n",
    "#save the new environment into a new csv file        \n",
    "def update_environment(environment,num_iter, num_agents,file_name='environment_after_update'):\n",
    "    '''\n",
    "    Update possible existing file with new values for environment.\n",
    "    '''\n",
    "    f2 = open(file_name+'.csv', 'w', newline='')#the 'w' will overwrite the exiting environment file\n",
    "    writer = csv.writer(f2, delimiter=',')\n",
    "    writer.writerow(['num_iterations','num_agents'])\n",
    "    writer.writerow([num_iter,num_agents])\n",
    "    for row in environment:\n",
    "        writer.writerow(row) # List of values.\n",
    "    f2.close()\n",
    "\n"
   ]
  },
  {
   "cell_type": "code",
   "execution_count": 26,
   "metadata": {},
   "outputs": [
    {
     "name": "stdout",
     "output_type": "stream",
     "text": [
      "29 contacts in this round\n",
      "22 contacts in this round\n",
      "26 contacts in this round\n",
      "27 contacts in this round\n",
      "20 contacts in this round\n",
      "24 contacts in this round\n",
      "31 contacts in this round\n",
      "25 contacts in this round\n",
      "17 contacts in this round\n",
      "21 contacts in this round\n"
     ]
    }
   ],
   "source": [
    "#move them number_iterations times :\n",
    "\n",
    "\n",
    "for j in range (number_iterations):\n",
    "    sharing=0\n",
    "    for i in range(number_agents):\n",
    "        agents[i].move()\n",
    "        agents[i].eat()\n",
    "        #share with a certain probability, here 25% chance:\n",
    "        if rd.random()<0.25:\n",
    "            agents[i].share_with_neighbors(neighborhood)\n",
    "            #keep count of sharing transactions:\n",
    "            if len(agents[i].neighbors)>1:\n",
    "                sharing+=1\n",
    "        #if agents eat too much, give back to environment:\n",
    "        if agents[i].store > 100:\n",
    "            agents[i].give_it_up()\n",
    "    #summary of interactions in round j\n",
    "    print(str(sharing)+' contacts in this round')\n",
    "    #randomly shuffle list so as to not visit the agents in the same order at each iteration. \n",
    "    rd.shuffle(agents)\n",
    "\n",
    "#keep an account of the store for all agents after number_iteration of moves and eats and put new model values into cvs files:\n",
    "add_store_info(agents,number_iterations,number_agents)\n",
    "update_environment(environment,number_iterations,number_agents)"
   ]
  },
  {
   "cell_type": "code",
   "execution_count": 27,
   "metadata": {},
   "outputs": [
    {
     "data": {
      "image/png": "[encoded data removed]",
      "text/plain": [
       "<Figure size 432x288 with 1 Axes>"
      ]
     },
     "metadata": {
      "needs_background": "light"
     },
     "output_type": "display_data"
    }
   ],
   "source": [
    "#plot all the agents on the grid\n",
    "plt.xlim(0,100)\n",
    "plt.ylim(0,100)\n",
    "plt.imshow(environment)\n",
    "plt.scatter([agents[i].x for i in range (number_agents)],[agents[i].y for i in range (number_agents)])\n",
    "plt.title(str(number_agents)+' agents')\n",
    "plt.show()\n",
    "#or use a loop to go through all the agents"
   ]
  }
 ],
 "metadata": {
  "kernelspec": {
   "display_name": "Python 3",
   "language": "python",
   "name": "python3"
  },
  "language_info": {
   "codemirror_mode": {
    "name": "ipython",
    "version": 3
   },
   "file_extension": ".py",
   "mimetype": "text/x-python",
   "name": "python",
   "nbconvert_exporter": "python",
   "pygments_lexer": "ipython3",
   "version": "3.7.3"
  }
 },
 "nbformat": 4,
 "nbformat_minor": 2
}
