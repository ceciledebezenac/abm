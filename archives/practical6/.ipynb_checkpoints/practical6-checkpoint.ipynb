{
 "cells": [
  {
   "cell_type": "markdown",
   "metadata": {},
   "source": [
    "# Model from agentframework : I/O!"
   ]
  },
  {
   "cell_type": "markdown",
   "metadata": {},
   "source": [
    "## Practical 6 : interaction between agents and environment"
   ]
  },
  {
   "cell_type": "markdown",
   "metadata": {},
   "source": [
    "This practical considers the structure built previously, adding agent environment awarness. \n",
    "The main concepts convered here are :\n",
    "- read text and cvs input into a python object (list of list)\n",
    "- add a shared environment attribute to the agents \n",
    "- create the eat() method for agents to use the environment they share to store food as integers. \n",
    "- write python objects (list of list or list) into external format (csv) to save modifications in data. \n",
    "- plot environment and agents simultaneously. "
   ]
  },
  {
   "cell_type": "code",
   "execution_count": 9,
   "metadata": {},
   "outputs": [],
   "source": [
    "import random as rd\n",
    "import agentframework6 as ag\n",
    "import csv\n",
    "import matplotlib.pyplot as plt\n",
    "import sys"
   ]
  },
  {
   "cell_type": "code",
   "execution_count": 12,
   "metadata": {},
   "outputs": [],
   "source": [
    "import sys"
   ]
  },
  {
   "cell_type": "markdown",
   "metadata": {},
   "source": [
    "#### Manage arguments in command line "
   ]
  },
  {
   "cell_type": "code",
   "execution_count": 14,
   "metadata": {},
   "outputs": [],
   "source": [
    "#read the text file in csv and put it into a list to be able to plot it.        \n",
    "with open('in.txt') as csv_file:\n",
    "    csv_reader = csv.reader(csv_file, delimiter=',')\n",
    "    environment=[]\n",
    "    for row in csv_reader:\n",
    "        rowlist=[]\n",
    "        for value in row:\n",
    "            rowlist.append(int(value))\n",
    "        environment.append(rowlist)"
   ]
  },
  {
   "cell_type": "code",
   "execution_count": 3,
   "metadata": {},
   "outputs": [],
   "source": [
    "#create global variables for the model\n",
    "number_agents=10\n",
    "number_iterations=10\n"
   ]
  },
  {
   "cell_type": "code",
   "execution_count": 4,
   "metadata": {},
   "outputs": [],
   "source": [
    "#create number_agents of agents from agentframework6 class Agent, adding environment to the arguments.\n",
    "agents=[]\n",
    "for i in range (number_agents):\n",
    "    agents.append(ag.Agent(environment))\n",
    "    #no argument in Agent yet\n",
    "\n"
   ]
  },
  {
   "cell_type": "code",
   "execution_count": 5,
   "metadata": {},
   "outputs": [],
   "source": [
    "#save the amount stored by agents after num_iterations in a file    \n",
    "def add_store_info(list_agents,num_iter,num_agents,file_name='store_file'):\n",
    "    '''\n",
    "    Append the values of store for all agents after a number of iterations.\n",
    "    '''\n",
    "    #create the storage row\n",
    "    storage=[num_iter,num_agents]+[list_agents[i].store for i in range(num_agents)]\n",
    "    \n",
    "    #append it to existing doc\n",
    "    with open(file_name+'.csv', mode='a') as store_file:#the 'a' writing enables appending to existing file\n",
    "        storage_writer = csv.writer(store_file, delimiter=',')\n",
    "        storage_writer.writerow(storage)#store the data in one row    \n",
    "\n",
    "#save the new environment into a new csv file        \n",
    "def update_environment(environment,num_iter, num_agents,file_name='environment_after_update'):\n",
    "    '''\n",
    "    Update possible existing file with new values for environment.\n",
    "    '''\n",
    "    f2 = open(file_name+'.csv', 'w', newline='')#the 'w' will overwrite the exiting environment file\n",
    "    writer = csv.writer(f2, delimiter=',')\n",
    "    writer.writerow(['num_iterations','num_agents'])\n",
    "    writer.writerow([num_iter,num_agents])\n",
    "    for row in environment:\n",
    "        writer.writerow(row) # List of values.\n",
    "    f2.close()\n",
    "\n"
   ]
  },
  {
   "cell_type": "code",
   "execution_count": 7,
   "metadata": {},
   "outputs": [],
   "source": [
    "#move them number_iterations times :\n",
    "for j in range (number_iterations):\n",
    "    #make sure all agents get a turn to do something: \n",
    "    for i in range(number_agents):\n",
    "        agents[i].move()\n",
    "        agents[i].eat()\n",
    "        #if agents eat too much, give back to environment:\n",
    "        if agents[i].store > 100:\n",
    "            agents[i].give_it_up()\n",
    "    \n",
    "    #make sure each turn does not process agents in the same way:\n",
    "    rd.shuffle(agents)\n",
    "\n",
    "#keep an account of the store for all agents after number_iteration of moves and eats and put new model values into cvs files:\n",
    "add_store_info(agents,number_iterations,number_agents)\n",
    "update_environment(environment,number_iterations,number_agents)"
   ]
  },
  {
   "cell_type": "code",
   "execution_count": 8,
   "metadata": {},
   "outputs": [
    {
     "data": {
      "image/png": "[encoded data removed]",
      "text/plain": [
       "<Figure size 432x288 with 1 Axes>"
      ]
     },
     "metadata": {
      "needs_background": "light"
     },
     "output_type": "display_data"
    }
   ],
   "source": [
    "#plot all the agents on the grid\n",
    "plt.xlim(0,100)\n",
    "plt.ylim(0,100)\n",
    "plt.imshow(environment)\n",
    "plt.scatter([agents[i].x for i in range (number_agents)],[agents[i].y for i in range (number_agents)])\n",
    "plt.title(str(number_agents)+' agents')\n",
    "plt.show()\n",
    "#or use a loop to go through all the agents"
   ]
  },
  {
   "cell_type": "code",
   "execution_count": 96,
   "metadata": {},
   "outputs": [],
   "source": [
    "#we no longer need this function as it has been added into the agentframework now. \n",
    "def distance(agent1,agent2):\n",
    "    '''Return euclidean distance between agents of 2D coordinates x and y.\n",
    "    >>> distance([0,0],[0,1])\n",
    "    1\n",
    "    '''\n",
    "    return(((agent1.x-agent2.x)**2+(agent1.y-agent2.y)**2)**0.5)\n",
    "    "
   ]
  },
  {
   "cell_type": "code",
   "execution_count": 89,
   "metadata": {},
   "outputs": [],
   "source": [
    "#distance from all agents to all agents.\n",
    "distance_all=[]\n",
    "for origin in range(number_agents):\n",
    "    distance_origin=[]\n",
    "    for i in range(origin,number_agents):\n",
    "        if i!=origin :#just so we don't calculate distance from oneself> but we could discard this step here\n",
    "            dist=distance(agents[origin],agents[i])\n",
    "            distance_origin.append(dist)\n",
    "    distance_all.append(distance_origin)"
   ]
  },
  {
   "cell_type": "code",
   "execution_count": null,
   "metadata": {},
   "outputs": [],
   "source": []
  }
 ],
 "metadata": {
  "kernelspec": {
   "display_name": "Python 3",
   "language": "python",
   "name": "python3"
  },
  "language_info": {
   "codemirror_mode": {
    "name": "ipython",
    "version": 3
   },
   "file_extension": ".py",
   "mimetype": "text/x-python",
   "name": "python",
   "nbconvert_exporter": "python",
   "pygments_lexer": "ipython3",
   "version": "3.7.3"
  }
 },
 "nbformat": 4,
 "nbformat_minor": 2
}
